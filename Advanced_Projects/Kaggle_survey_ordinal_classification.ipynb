{
  "nbformat": 4,
  "nbformat_minor": 0,
  "metadata": {
    "colab": {
      "name": "liu_1001297385_assignment2_notebook.ipynb",
      "provenance": [],
      "collapsed_sections": []
    },
    "kernelspec": {
      "name": "python3",
      "display_name": "Python 3"
    }
  },
  "cells": [
    {
      "cell_type": "code",
      "metadata": {
        "id": "b6l0n1qU41z3"
      },
      "source": [
        "import pandas as pd\r\n",
        "from sklearn import preprocessing\r\n",
        "import matplotlib.pyplot as plt\r\n",
        "import seaborn as sns\r\n",
        "import numpy as np\r\n",
        "from sklearn.feature_selection import SelectKBest, chi2\r\n",
        "from sklearn.model_selection import train_test_split\r\n",
        "from sklearn.linear_model import LogisticRegression\r\n",
        "from sklearn.model_selection import KFold\r\n",
        "from sklearn.metrics import accuracy_score,f1_score\r\n",
        "from sklearn.decomposition import PCA"
      ],
      "execution_count": 9,
      "outputs": []
    },
    {
      "cell_type": "code",
      "metadata": {
        "colab": {
          "base_uri": "https://localhost:8080/"
        },
        "id": "qpr3ctQ45pQ8",
        "outputId": "cbdbb4bc-6f43-42fc-874a-c9ae3cdcc411"
      },
      "source": [
        "df=pd.read_csv('clean_kaggle_data_2020.csv')"
      ],
      "execution_count": 10,
      "outputs": [
        {
          "output_type": "stream",
          "text": [
            "/usr/local/lib/python3.7/dist-packages/IPython/core/interactiveshell.py:2718: DtypeWarning: Columns (0,206) have mixed types.Specify dtype option on import or set low_memory=False.\n",
            "  interactivity=interactivity, compiler=compiler, result=result)\n"
          ],
          "name": "stderr"
        }
      ]
    },
    {
      "cell_type": "markdown",
      "metadata": {
        "id": "S8XsYb2rBG6S"
      },
      "source": [
        "# Data Cleaning"
      ]
    },
    {
      "cell_type": "code",
      "metadata": {
        "colab": {
          "base_uri": "https://localhost:8080/"
        },
        "id": "a8GGR2G_BheK",
        "outputId": "123fc538-4cf1-4536-b043-0f265aa4c620"
      },
      "source": [
        "# Check the shape of the dataframe\r\n",
        "print('Shape of the dataframe: {}'.format(df.shape))"
      ],
      "execution_count": 11,
      "outputs": [
        {
          "output_type": "stream",
          "text": [
            "Shape of the dataframe: (10730, 357)\n"
          ],
          "name": "stdout"
        }
      ]
    },
    {
      "cell_type": "code",
      "metadata": {
        "colab": {
          "base_uri": "https://localhost:8080/"
        },
        "id": "1hWPNwo1BrfQ",
        "outputId": "75e50cae-2dac-444f-a6a1-eb69b669ed50"
      },
      "source": [
        "# Check number of missing values in the first 20 columns\r\n",
        "df.iloc[:,:20].isnull().sum()"
      ],
      "execution_count": 12,
      "outputs": [
        {
          "output_type": "execute_result",
          "data": {
            "text/plain": [
              "Time from Start to Finish (seconds)        0\n",
              "Q1                                         0\n",
              "Q2                                         0\n",
              "Q3                                         0\n",
              "Q4                                         0\n",
              "Q5                                         0\n",
              "Q6                                         0\n",
              "Q7_Part_1                               2009\n",
              "Q7_Part_2                               7974\n",
              "Q7_Part_3                               5749\n",
              "Q7_Part_4                               9329\n",
              "Q7_Part_5                               9037\n",
              "Q7_Part_6                               8980\n",
              "Q7_Part_7                               8901\n",
              "Q7_Part_8                              10555\n",
              "Q7_Part_9                              10600\n",
              "Q7_Part_10                              9370\n",
              "Q7_Part_11                              9623\n",
              "Q7_Part_12                             10626\n",
              "Q7_OTHER                                9327\n",
              "dtype: int64"
            ]
          },
          "metadata": {
            "tags": []
          },
          "execution_count": 12
        }
      ]
    },
    {
      "cell_type": "code",
      "metadata": {
        "id": "hjZjGixP8VlH"
      },
      "source": [
        "# Remove all the columns with more than 1000 missing values\r\n",
        "new_df=df.loc[:,df.columns[df.isnull().sum().values<1000].values]"
      ],
      "execution_count": 13,
      "outputs": []
    },
    {
      "cell_type": "code",
      "metadata": {
        "colab": {
          "base_uri": "https://localhost:8080/"
        },
        "id": "dCHvk_V5BCLd",
        "outputId": "d945bffb-f6ce-4837-c094-160d7d9f8da6"
      },
      "source": [
        "# Check number of missing values in each column\r\n",
        "new_df.isnull().sum()"
      ],
      "execution_count": 14,
      "outputs": [
        {
          "output_type": "execute_result",
          "data": {
            "text/plain": [
              "Time from Start to Finish (seconds)      0\n",
              "Q1                                       0\n",
              "Q2                                       0\n",
              "Q3                                       0\n",
              "Q4                                       0\n",
              "Q5                                       0\n",
              "Q6                                       0\n",
              "Q8                                     561\n",
              "Q11                                    561\n",
              "Q13                                    561\n",
              "Q15                                    561\n",
              "Q20                                      0\n",
              "Q21                                      0\n",
              "Q22                                      0\n",
              "Q24                                      0\n",
              "Q25                                    159\n",
              "Q24_Encoded                              1\n",
              "Q24_buckets                              1\n",
              "dtype: int64"
            ]
          },
          "metadata": {
            "tags": []
          },
          "execution_count": 14
        }
      ]
    },
    {
      "cell_type": "code",
      "metadata": {
        "colab": {
          "base_uri": "https://localhost:8080/"
        },
        "id": "TSLG2kx_i8vH",
        "outputId": "2d50821a-4e7a-4d59-9839-140002d07d12"
      },
      "source": [
        "# Get the questions with missing values\r\n",
        "print('Q8:',df.loc[0,'Q8'])\r\n",
        "print('Q11:',df.loc[0,'Q11'])\r\n",
        "print('Q13:',df.loc[0,'Q13'])\r\n",
        "print('Q15:',df.loc[0,'Q15'])\r\n",
        "print('Q25:',df.loc[0,'Q25'])"
      ],
      "execution_count": 15,
      "outputs": [
        {
          "output_type": "stream",
          "text": [
            "Q8: What programming language would you recommend an aspiring data scientist to learn first? - Selected Choice\n",
            "Q11: What type of computing platform do you use most often for your data science projects? - Selected Choice\n",
            "Q13: Approximately how many times have you used a TPU (tensor processing unit)?\n",
            "Q15: For how many years have you used machine learning methods?\n",
            "Q25: Approximately how much money have you (or your team) spent on machine learning and/or cloud computing services at home (or at work) in the past 5 years (approximate $USD)?\n"
          ],
          "name": "stdout"
        }
      ]
    },
    {
      "cell_type": "code",
      "metadata": {
        "id": "A75yIETkERPH"
      },
      "source": [
        "# Remove the first row\r\n",
        "new_df=new_df.iloc[1:,:]"
      ],
      "execution_count": 16,
      "outputs": []
    },
    {
      "cell_type": "code",
      "metadata": {
        "id": "hORyGJ0FkKH1"
      },
      "source": [
        "# Fill missing values with most common response\r\n",
        "clean_df=new_df.apply(lambda x: x.fillna(x.value_counts().index[0]))"
      ],
      "execution_count": 17,
      "outputs": []
    },
    {
      "cell_type": "code",
      "metadata": {
        "colab": {
          "base_uri": "https://localhost:8080/"
        },
        "id": "6KwMII8AEYRa",
        "outputId": "0c5886c3-c8ac-4d35-8953-9452e8a6fd4b"
      },
      "source": [
        "# Check if there is any missing value in clean_df\r\n",
        "clean_df.isnull().sum()"
      ],
      "execution_count": 18,
      "outputs": [
        {
          "output_type": "execute_result",
          "data": {
            "text/plain": [
              "Time from Start to Finish (seconds)    0\n",
              "Q1                                     0\n",
              "Q2                                     0\n",
              "Q3                                     0\n",
              "Q4                                     0\n",
              "Q5                                     0\n",
              "Q6                                     0\n",
              "Q8                                     0\n",
              "Q11                                    0\n",
              "Q13                                    0\n",
              "Q15                                    0\n",
              "Q20                                    0\n",
              "Q21                                    0\n",
              "Q22                                    0\n",
              "Q24                                    0\n",
              "Q25                                    0\n",
              "Q24_Encoded                            0\n",
              "Q24_buckets                            0\n",
              "dtype: int64"
            ]
          },
          "metadata": {
            "tags": []
          },
          "execution_count": 18
        }
      ]
    },
    {
      "cell_type": "code",
      "metadata": {
        "colab": {
          "base_uri": "https://localhost:8080/"
        },
        "id": "_xCjZaPFEwiO",
        "outputId": "60d514ef-434b-4797-e08f-e7e7ed8a2c9a"
      },
      "source": [
        "# Check the data type\r\n",
        "clean_df.dtypes"
      ],
      "execution_count": 19,
      "outputs": [
        {
          "output_type": "execute_result",
          "data": {
            "text/plain": [
              "Time from Start to Finish (seconds)     object\n",
              "Q1                                      object\n",
              "Q2                                      object\n",
              "Q3                                      object\n",
              "Q4                                      object\n",
              "Q5                                      object\n",
              "Q6                                      object\n",
              "Q8                                      object\n",
              "Q11                                     object\n",
              "Q13                                     object\n",
              "Q15                                     object\n",
              "Q20                                     object\n",
              "Q21                                     object\n",
              "Q22                                     object\n",
              "Q24                                     object\n",
              "Q25                                     object\n",
              "Q24_Encoded                            float64\n",
              "Q24_buckets                             object\n",
              "dtype: object"
            ]
          },
          "metadata": {
            "tags": []
          },
          "execution_count": 19
        }
      ]
    },
    {
      "cell_type": "code",
      "metadata": {
        "id": "iuKXeudyJQdR"
      },
      "source": [
        "# Transform first column and Q24_Encoded to integer\r\n",
        "clean_df=clean_df.astype({'Time from Start to Finish (seconds)':'int64','Q24_Encoded':'int64'})"
      ],
      "execution_count": 20,
      "outputs": []
    },
    {
      "cell_type": "code",
      "metadata": {
        "id": "-rS_eRPEIdd_"
      },
      "source": [
        "# Categorical features that can use self-encoding\r\n",
        "le_features=['Q1','Q6','Q13','Q15','Q20','Q21','Q25']\r\n",
        "# Categorical features that can use dummy values\r\n",
        "dummy_features=['Q2','Q3','Q4','Q5','Q8','Q11','Q22']"
      ],
      "execution_count": 21,
      "outputs": []
    },
    {
      "cell_type": "code",
      "metadata": {
        "colab": {
          "base_uri": "https://localhost:8080/"
        },
        "id": "br9X8oi1j4Bs",
        "outputId": "6a6be9fd-0316-47d1-944e-36c76974c555"
      },
      "source": [
        "# Get unique values for features using self-encoding\r\n",
        "for feature in le_features:\r\n",
        "    print('Unique values for {}'.format(feature))\r\n",
        "    print(clean_df.loc[:,feature].unique())"
      ],
      "execution_count": 22,
      "outputs": [
        {
          "output_type": "stream",
          "text": [
            "Unique values for Q1\n",
            "['30-34' '35-39' '22-24' '55-59' '50-54' '25-29' '18-21' '40-44' '60-69'\n",
            " '45-49' '70+']\n",
            "Unique values for Q6\n",
            "['5-10 years' '10-20 years' '1-2 years' '< 1 years' '3-5 years'\n",
            " '20+ years' 'I have never written code']\n",
            "Unique values for Q13\n",
            "['2-5 times' 'Never' '6-25 times' 'Once' 'More than 25 times']\n",
            "Unique values for Q15\n",
            "['1-2 years' 'I do not use machine learning methods' '3-4 years'\n",
            " '2-3 years' 'Under 1 year' '4-5 years' '5-10 years' '20 or more years'\n",
            " '10-20 years']\n",
            "Unique values for Q20\n",
            "['10,000 or more employees' '1000-9,999 employees' '250-999 employees'\n",
            " '0-49 employees' '50-249 employees']\n",
            "Unique values for Q21\n",
            "['20+' '0' '5-9' '1-2' '3-4' '10-14' '15-19']\n",
            "Unique values for Q25\n",
            "['$100,000 or more ($USD)' '$0 ($USD)' '$10,000-$99,999' '$1-$99'\n",
            " '$1000-$9,999' '$100-$999']\n"
          ],
          "name": "stdout"
        }
      ]
    },
    {
      "cell_type": "code",
      "metadata": {
        "id": "KR98I4oSkXZJ"
      },
      "source": [
        "# Transform Q1 using self-encoding\r\n",
        "Q1_encode={'18-21':0,\r\n",
        "                       '22-24':1,\r\n",
        "                       '25-29':2,\r\n",
        "                       '30-34':3,\r\n",
        "                       '35-39':4,\r\n",
        "                       '40-44':5,\r\n",
        "                       '45-49':6,\r\n",
        "                        '50-54':7,\r\n",
        "                        '55-59':8,\r\n",
        "                        '60-69':9,\r\n",
        "                        '70+':10}\r\n",
        "clean_df['Q1_Encoded']=clean_df.loc[:,'Q1'].map(Q1_encode)"
      ],
      "execution_count": 23,
      "outputs": []
    },
    {
      "cell_type": "code",
      "metadata": {
        "id": "RDmiiN6YgIN2"
      },
      "source": [
        "# Transform Q6 using self-encoding\r\n",
        "Q6_encode={'I have never written code':0,\r\n",
        "                       '< 1 years':1,\r\n",
        "                       '1-2 years':2,\r\n",
        "                       '3-5 years':3,\r\n",
        "                       '5-10 years':4,\r\n",
        "                       '10-20 years':5,\r\n",
        "                        '20+ years':6}\r\n",
        "clean_df['Q6_Encoded']=clean_df.loc[:,'Q6'].map(Q6_encode)"
      ],
      "execution_count": 24,
      "outputs": []
    },
    {
      "cell_type": "code",
      "metadata": {
        "id": "t1Lmhg6alnAt"
      },
      "source": [
        "# Transform Q13 using self-encoding\r\n",
        "Q13_encode={'Never':0,\r\n",
        "                       'Once':1,\r\n",
        "                       '2-5 times':2,\r\n",
        "                       '6-25 times':3,\r\n",
        "                       'More than 25 times':4}\r\n",
        "clean_df['Q13_Encoded']=clean_df.loc[:,'Q13'].map(Q13_encode)"
      ],
      "execution_count": 25,
      "outputs": []
    },
    {
      "cell_type": "code",
      "metadata": {
        "id": "gblI0DG9m3iP"
      },
      "source": [
        "# Transform Q15 using self-encoding\r\n",
        "Q15_encode={'I do not use machine learning methods':0,\r\n",
        "                       'Under 1 year':1,\r\n",
        "                       '1-2 years':2,\r\n",
        "                       '2-3 years':3,\r\n",
        "                       '3-4 years':4,\r\n",
        "                       '4-5 years':5,\r\n",
        "                        '5-10 years':6,\r\n",
        "                        '10-20 years':7,\r\n",
        "                        '20 or more years':8}\r\n",
        "clean_df['Q15_Encoded']=clean_df.loc[:,'Q15'].map(Q15_encode)"
      ],
      "execution_count": 26,
      "outputs": []
    },
    {
      "cell_type": "code",
      "metadata": {
        "id": "8x20WIYjiy8W"
      },
      "source": [
        "# Transform Q20 using self-encoding\r\n",
        "Q20_encode={'0-49 employees':0,\r\n",
        "                       '50-249 employees':1,\r\n",
        "                       '250-999 employees':2,\r\n",
        "                       '1000-9,999 employees':3,\r\n",
        "                       '10,000 or more employees':4}\r\n",
        "clean_df['Q20_Encoded']=clean_df.loc[:,'Q20'].map(Q20_encode)"
      ],
      "execution_count": 27,
      "outputs": []
    },
    {
      "cell_type": "code",
      "metadata": {
        "id": "XG_OabA9jRts"
      },
      "source": [
        "# Transform Q21 using self-encoding\r\n",
        "Q21_encode={'0':0,\r\n",
        "                        '1-2':1,\r\n",
        "                        '3-4':2,\r\n",
        "                        '5-9':3,\r\n",
        "                        '10-14':4,\r\n",
        "                        '15-19':5,\r\n",
        "                        '20+':6}\r\n",
        "clean_df['Q21_Encoded']=clean_df.loc[:,'Q21'].map(Q21_encode)"
      ],
      "execution_count": 28,
      "outputs": []
    },
    {
      "cell_type": "code",
      "metadata": {
        "id": "DVgxLemIoAek"
      },
      "source": [
        "# Transform Q25 using self-encoding\r\n",
        "Q25_encode={'$0 ($USD)':0,\r\n",
        "                        '$1-$99':1,\r\n",
        "                        '$100-$999':2,\r\n",
        "                        '$1000-$9,999':3,\r\n",
        "                        '$10,000-$99,999':4,\r\n",
        "                        '$100,000 or more ($USD)':5}\r\n",
        "clean_df['Q25_Encoded']=clean_df.loc[:,'Q25'].map(Q25_encode)"
      ],
      "execution_count": 29,
      "outputs": []
    },
    {
      "cell_type": "code",
      "metadata": {
        "id": "HkR9Fs6vLebx"
      },
      "source": [
        "# Transform features using dummy values\r\n",
        "for feature in dummy_features:\r\n",
        "    dummy_df=pd.get_dummies(clean_df.loc[:,feature],prefix=feature)\r\n",
        "    clean_df=clean_df.join(dummy_df)"
      ],
      "execution_count": 30,
      "outputs": []
    },
    {
      "cell_type": "markdown",
      "metadata": {
        "id": "DHfRSsF5S1G7"
      },
      "source": [
        "# EDA and Feature Selection"
      ]
    },
    {
      "cell_type": "code",
      "metadata": {
        "id": "iGA6ttrkS5-f"
      },
      "source": [
        "# Extract features\r\n",
        "features_df=clean_df.iloc[:,18:]\r\n",
        "features_df['Time from Start to Finish (seconds)']=clean_df.iloc[:,0]\r\n",
        "# Extract target label\r\n",
        "target=clean_df.iloc[:,16]"
      ],
      "execution_count": 47,
      "outputs": []
    },
    {
      "cell_type": "code",
      "metadata": {
        "id": "i6786kv3piKa"
      },
      "source": [
        "# Combine features and target into one dataframe\r\n",
        "combined_df=features_df.join(target)"
      ],
      "execution_count": 32,
      "outputs": []
    },
    {
      "cell_type": "code",
      "metadata": {
        "colab": {
          "base_uri": "https://localhost:8080/",
          "height": 500
        },
        "id": "YwZiMcl6p5sU",
        "outputId": "51a80111-2517-4a74-b2a2-8474cafd6a47"
      },
      "source": [
        "# Heatmap of correlation\r\n",
        "mask = np.zeros_like(combined_df.corr()*-1)\r\n",
        "mask[np.triu_indices_from(mask)] = True\r\n",
        "\r\n",
        "fig,ax = plt.subplots(figsize=(8,8))\r\n",
        "sns.heatmap(combined_df.corr(), mask=mask, annot=False,xticklabels=False, yticklabels=False).set_title('Heatmap of correlation')"
      ],
      "execution_count": 33,
      "outputs": [
        {
          "output_type": "execute_result",
          "data": {
            "text/plain": [
              "Text(0.5, 1.0, 'Heatmap of correlation')"
            ]
          },
          "metadata": {
            "tags": []
          },
          "execution_count": 33
        },
        {
          "output_type": "display_data",
          "data": {
            "image/png": "[encoded data removed]",
            "text/plain": [
              "<Figure size 576x576 with 2 Axes>"
            ]
          },
          "metadata": {
            "tags": [],
            "needs_background": "light"
          }
        }
      ]
    },
    {
      "cell_type": "code",
      "metadata": {
        "colab": {
          "base_uri": "https://localhost:8080/"
        },
        "id": "JBvU-hxdrouu",
        "outputId": "6994e4fe-3519-40a3-936f-3885d85cc9a8"
      },
      "source": [
        "# Find highly correlated fetures\r\n",
        "print('Number of highly correlated features: {}'.format(((combined_df.corr()>0.7).sum().values != 1).astype(int).sum()))"
      ],
      "execution_count": 34,
      "outputs": [
        {
          "output_type": "stream",
          "text": [
            "Number of highly correlated features: 0\n"
          ],
          "name": "stdout"
        }
      ]
    },
    {
      "cell_type": "code",
      "metadata": {
        "colab": {
          "base_uri": "https://localhost:8080/",
          "height": 313
        },
        "id": "7_orteljXZHG",
        "outputId": "ef151232-3eee-443b-f6c5-abdb8aa7a37b"
      },
      "source": [
        "# Plot correlation of each feature to target\r\n",
        "correlation=features_df.apply(lambda x: x.corr(target))\r\n",
        "plt.bar(height=correlation.values,x=range(110))\r\n",
        "plt.xlabel('Feature number')\r\n",
        "plt.ylabel('Correlation')\r\n",
        "plt.title('Correlation between each feature and target')"
      ],
      "execution_count": 35,
      "outputs": [
        {
          "output_type": "execute_result",
          "data": {
            "text/plain": [
              "Text(0.5, 1.0, 'Correlation between each feature and target')"
            ]
          },
          "metadata": {
            "tags": []
          },
          "execution_count": 35
        },
        {
          "output_type": "display_data",
          "data": {
            "image/png": "[encoded data removed]",
            "text/plain": [
              "<Figure size 432x288 with 1 Axes>"
            ]
          },
          "metadata": {
            "tags": [],
            "needs_background": "light"
          }
        }
      ]
    },
    {
      "cell_type": "code",
      "metadata": {
        "colab": {
          "base_uri": "https://localhost:8080/"
        },
        "id": "J3Z71kSnFHZA",
        "outputId": "cb5a7cca-53c5-4ad2-d0e2-bf0c929afa13"
      },
      "source": [
        "# Find most positivly related feature in the dataset\r\n",
        "print('Most related feature: {}'.format(features_df.columns[np.argmax(correlation)]))"
      ],
      "execution_count": 36,
      "outputs": [
        {
          "output_type": "stream",
          "text": [
            "Most related feature: Q3_United States of America\n"
          ],
          "name": "stdout"
        }
      ]
    },
    {
      "cell_type": "code",
      "metadata": {
        "colab": {
          "base_uri": "https://localhost:8080/"
        },
        "id": "aDd_wDc7HaZ8",
        "outputId": "76a80c35-0e24-4392-bde3-8e758b3a16fd"
      },
      "source": [
        "# Find most negatively related feature in the dataset\r\n",
        "print('Most related feature: {}'.format(features_df.columns[np.argmin(correlation)]))"
      ],
      "execution_count": 37,
      "outputs": [
        {
          "output_type": "stream",
          "text": [
            "Most related feature: Q3_India\n"
          ],
          "name": "stdout"
        }
      ]
    },
    {
      "cell_type": "code",
      "metadata": {
        "id": "3mfv6Cw1CoAq"
      },
      "source": [
        "# Feature engineering\r\n",
        "# Select correlation for countries\r\n",
        "country_correlation=correlation[12:67]\r\n",
        "# Select countries with correalation less than 0.1\r\n",
        "c=country_correlation[np.abs(country_correlation.values)<0.1].index.values\r\n",
        "# Combine those countries in one column\r\n",
        "combined_feature=features_df.loc[:,c].sum(axis=1)\r\n",
        "# Add a new column to features dataframe\r\n",
        "features_df['Q3_Combined']=combined_feature.values\r\n",
        "# Drop the countries with correlation less than 1\r\n",
        "features_df=features_df.drop(c,axis=1)"
      ],
      "execution_count": 38,
      "outputs": []
    },
    {
      "cell_type": "code",
      "metadata": {
        "id": "Mthc7VoH3qBo"
      },
      "source": [
        "# Split the dataset into train and test\r\n",
        "X_train,X_test,y_train,y_test=train_test_split(features_df,target,test_size=0.3,random_state=0)"
      ],
      "execution_count": 39,
      "outputs": []
    },
    {
      "cell_type": "code",
      "metadata": {
        "id": "QqRCjNQzhbK_"
      },
      "source": [
        "# Feature selection using Chi-2\r\n",
        "feature_selector=SelectKBest(chi2).fit(X_train, y_train)\r\n",
        "# Select features with p-value less than 0.05\r\n",
        "selected_cols=(features_df.columns[feature_selector.pvalues_<0.05]).values\r\n",
        "# Extract selected feature for training data and test data\r\n",
        "X_train=X_train.loc[:,selected_cols]\r\n",
        "X_test=X_test.loc[:,selected_cols]"
      ],
      "execution_count": 40,
      "outputs": []
    },
    {
      "cell_type": "code",
      "metadata": {
        "colab": {
          "base_uri": "https://localhost:8080/"
        },
        "id": "c76f66ehMu47",
        "outputId": "8c652126-26f2-472a-e820-49f6c1fe7ca6"
      },
      "source": [
        "# Check number of features left in the dataset\r\n",
        "print('# of features after selection: {}'.format(X_train.shape[1]))"
      ],
      "execution_count": 41,
      "outputs": [
        {
          "output_type": "stream",
          "text": [
            "# of features after selection: 44\n"
          ],
          "name": "stdout"
        }
      ]
    },
    {
      "cell_type": "code",
      "metadata": {
        "id": "-ztKSpZczMYG"
      },
      "source": [
        "# Standardize data\r\n",
        "scaler=preprocessing.StandardScaler()\r\n",
        "scaler.fit(X_train)\r\n",
        "X_train=scaler.transform(X_train)\r\n",
        "X_train=pd.DataFrame(X_train)\r\n",
        "X_test=scaler.transform(X_test)\r\n",
        "X_test=pd.DataFrame(X_test)"
      ],
      "execution_count": 42,
      "outputs": []
    },
    {
      "cell_type": "code",
      "metadata": {
        "colab": {
          "base_uri": "https://localhost:8080/"
        },
        "id": "TJExz6Le8LPo",
        "outputId": "962f6097-b20f-4ac4-a269-1c25ca1007b3"
      },
      "source": [
        "# Dimensionality reduction\r\n",
        "pca=PCA(n_components=15)\r\n",
        "pca.fit(X_train)\r\n",
        "X_train=pd.DataFrame(pca.transform(X_train))\r\n",
        "X_test=pd.DataFrame(pca.transform(X_test))\r\n",
        "print('Explained variance ratio: {}'.format(np.sum(pca.explained_variance_ratio_)))"
      ],
      "execution_count": 43,
      "outputs": [
        {
          "output_type": "stream",
          "text": [
            "Explained variance ratio: 0.5154768822407114\n"
          ],
          "name": "stdout"
        }
      ]
    },
    {
      "cell_type": "markdown",
      "metadata": {
        "id": "_bteywgiXywd"
      },
      "source": [
        "# Model Implementation"
      ]
    },
    {
      "cell_type": "code",
      "metadata": {
        "id": "B7fPKeoPnav1"
      },
      "source": [
        "# Implement the model\r\n",
        "lr=LogisticRegression(solver='saga',penalty='elasticnet',l1_ratio=0)\r\n",
        "kfold = KFold(n_splits=10,shuffle=True,random_state=0)\r\n",
        "kfold.get_n_splits(X_train)\r\n",
        "accuracy = np.zeros(10)\r\n",
        "np_idx = 0\r\n",
        "probabilities_dict={}\r\n",
        "n=1\r\n",
        "# For each fold\r\n",
        "for train_idx, test_idx in kfold.split(X_train):\r\n",
        "    # Get the training and test data\r\n",
        "    X_train_cv, X_test_cv = X_train.values[train_idx], X_train.values[test_idx]\r\n",
        "    y_train_cv, y_test_cv = y_train.values[train_idx], y_train.values[test_idx]\r\n",
        "    prob_list=[]\r\n",
        "    # For each of the encoded salaray range\r\n",
        "    for i in range(14):\r\n",
        "        # Transform training target into binary label\r\n",
        "        new_y_train_cv=(y_train_cv<=i).astype(int)\r\n",
        "        # Fit the model\r\n",
        "        lr.fit(X_train_cv,new_y_train_cv)\r\n",
        "        # Get the probabilty for positive target\r\n",
        "        prob=lr.predict_proba(X_test_cv)[:,1]\r\n",
        "        # Append the probabilities to the list\r\n",
        "        prob_list.append(prob)\r\n",
        "    probabilities=np.array(prob_list)\r\n",
        "    adjusted_prob_list=[]\r\n",
        "    # For each of the classification\r\n",
        "    for i in range(15):\r\n",
        "        # For the first classification just append the result\r\n",
        "        if i == 0:\r\n",
        "            adjusted_prob_list.append(probabilities[0,:])\r\n",
        "        # Else current probability result minus previous probability result\r\n",
        "        elif i<14:\r\n",
        "            adjusted_prob_list.append(probabilities[i,:]-probabilities[i-1,:])\r\n",
        "        # Last class equals 1-previous probability\r\n",
        "        else:\r\n",
        "            adjusted_prob_list.append(1-probabilities[13,:])\r\n",
        "    adjusted_probabilities=np.array(adjusted_prob_list)\r\n",
        "    # Find the maximum value in each column and output the index as prediction \r\n",
        "    prediction=np.argmax((adjusted_probabilities==adjusted_probabilities.max(axis=0,keepdims=1)).astype(int),axis=0)\r\n",
        "    # Calcualte accuracy score\r\n",
        "    accuracy[np_idx]=accuracy_score(y_test_cv,prediction)\r\n",
        "    # Put current fold's result in the probabilities dictionary\r\n",
        "    probabilities_dict[n]=adjusted_probabilities\r\n",
        "    n=n+1\r\n",
        "    np_idx=np_idx+1"
      ],
      "execution_count": 44,
      "outputs": []
    },
    {
      "cell_type": "code",
      "metadata": {
        "id": "FxOm2CLMvzhN"
      },
      "source": [
        "# prediction label to bucket encoding\r\n",
        "bucket_encode={0:'0-9,999',\r\n",
        "                                1:'10,000-19,999',\r\n",
        "                                2:'20,000-29,999',\r\n",
        "                                3:'30,000-39,999',\r\n",
        "                                4:'40,000-49,999',\r\n",
        "                                5:'50,000-59,999',\r\n",
        "                                6:'60,000-69,999',\r\n",
        "                                7:'70,000-79,999',\r\n",
        "                                8:'80,000-89,999',\r\n",
        "                                9:'90,000-99,999',\r\n",
        "                                10:'100,000-124,999',\r\n",
        "                                11:'125,000-149,999',\r\n",
        "                                12:'150,000-199,999',\r\n",
        "                                13:'200,000-249,999',\r\n",
        "                                14:'>250,000'}\r\n",
        "bucket_set=('0-9,999','10,000-19,999','20,000-29,999','30,000-39,999','40,000-49,999','50,000-59,999','60,000-69,999','70,000-79,999','80,000-89,999','90,000-99,999','100,000-124,999','125,000-149,999','150,000-199,999','200,000-249,999','>250,000')"
      ],
      "execution_count": 60,
      "outputs": []
    },
    {
      "cell_type": "code",
      "metadata": {
        "colab": {
          "base_uri": "https://localhost:8080/",
          "height": 861
        },
        "id": "IgXks4W40CYv",
        "outputId": "d25664a9-5ff1-4016-fbb9-56058d1a8336"
      },
      "source": [
        "# Probability distribution for one of the training data\r\n",
        "plt.bar(height=adjusted_probabilities[:,23],x=range(15))\r\n",
        "plt.xlabel('Bucket')\r\n",
        "plt.ylabel('Probability')\r\n",
        "plt.xticks(range(15),bucket_set,rotation=30,ha='right')"
      ],
      "execution_count": 66,
      "outputs": [
        {
          "output_type": "execute_result",
          "data": {
            "text/plain": [
              "([<matplotlib.axis.XTick at 0x7fc08520b550>,\n",
              "  <matplotlib.axis.XTick at 0x7fc08520b6d0>,\n",
              "  <matplotlib.axis.XTick at 0x7fc08520bb90>,\n",
              "  <matplotlib.axis.XTick at 0x7fc0851e4350>,\n",
              "  <matplotlib.axis.XTick at 0x7fc0851e4890>,\n",
              "  <matplotlib.axis.XTick at 0x7fc0851e4dd0>,\n",
              "  <matplotlib.axis.XTick at 0x7fc0851eb390>,\n",
              "  <matplotlib.axis.XTick at 0x7fc0851eb8d0>,\n",
              "  <matplotlib.axis.XTick at 0x7fc0851ebe10>,\n",
              "  <matplotlib.axis.XTick at 0x7fc0851f1390>,\n",
              "  <matplotlib.axis.XTick at 0x7fc0851f1890>,\n",
              "  <matplotlib.axis.XTick at 0x7fc0851f1dd0>,\n",
              "  <matplotlib.axis.XTick at 0x7fc0851f1a10>,\n",
              "  <matplotlib.axis.XTick at 0x7fc0851eb990>,\n",
              "  <matplotlib.axis.XTick at 0x7fc0851e4810>],\n",
              " [Text(0, 0, '0-9,999'),\n",
              "  Text(0, 0, '10,000-19,999'),\n",
              "  Text(0, 0, '20,000-29,999'),\n",
              "  Text(0, 0, '30,000-39,999'),\n",
              "  Text(0, 0, '40,000-49,999'),\n",
              "  Text(0, 0, '50,000-59,999'),\n",
              "  Text(0, 0, '60,000-69,999'),\n",
              "  Text(0, 0, '70,000-79,999'),\n",
              "  Text(0, 0, '80,000-89,999'),\n",
              "  Text(0, 0, '90,000-99,999'),\n",
              "  Text(0, 0, '100,000-124,999'),\n",
              "  Text(0, 0, '125,000-149,999'),\n",
              "  Text(0, 0, '150,000-199,999'),\n",
              "  Text(0, 0, '200,000-249,999'),\n",
              "  Text(0, 0, '>250,000')])"
            ]
          },
          "metadata": {
            "tags": []
          },
          "execution_count": 66
        },
        {
          "output_type": "display_data",
          "data": {
            "image/png": "[encoded data removed]",
            "text/plain": [
              "<Figure size 432x288 with 1 Axes>"
            ]
          },
          "metadata": {
            "tags": [],
            "needs_background": "light"
          }
        }
      ]
    },
    {
      "cell_type": "code",
      "metadata": {
        "colab": {
          "base_uri": "https://localhost:8080/",
          "height": 861
        },
        "id": "sTzV3oImxPWg",
        "outputId": "0de3e55d-c305-4201-a6e3-6bfd0be035a3"
      },
      "source": [
        "# Probability distribution for one of the training data\r\n",
        "plt.bar(height=adjusted_probabilities[:,99],x=range(15))\r\n",
        "plt.xlabel('Bucket')\r\n",
        "plt.ylabel('Probability')\r\n",
        "plt.xticks(range(15),bucket_set,rotation=30,ha='right')"
      ],
      "execution_count": 67,
      "outputs": [
        {
          "output_type": "execute_result",
          "data": {
            "text/plain": [
              "([<matplotlib.axis.XTick at 0x7fc0851b5f90>,\n",
              "  <matplotlib.axis.XTick at 0x7fc0851b5190>,\n",
              "  <matplotlib.axis.XTick at 0x7fc0851b5990>,\n",
              "  <matplotlib.axis.XTick at 0x7fc08510f4d0>,\n",
              "  <matplotlib.axis.XTick at 0x7fc08510fa10>,\n",
              "  <matplotlib.axis.XTick at 0x7fc08510f8d0>,\n",
              "  <matplotlib.axis.XTick at 0x7fc085117510>,\n",
              "  <matplotlib.axis.XTick at 0x7fc085117a50>,\n",
              "  <matplotlib.axis.XTick at 0x7fc085117910>,\n",
              "  <matplotlib.axis.XTick at 0x7fc08511e510>,\n",
              "  <matplotlib.axis.XTick at 0x7fc08511ea10>,\n",
              "  <matplotlib.axis.XTick at 0x7fc08511e850>,\n",
              "  <matplotlib.axis.XTick at 0x7fc08511e910>,\n",
              "  <matplotlib.axis.XTick at 0x7fc0851179d0>,\n",
              "  <matplotlib.axis.XTick at 0x7fc08510f610>],\n",
              " [Text(0, 0, '0-9,999'),\n",
              "  Text(0, 0, '10,000-19,999'),\n",
              "  Text(0, 0, '20,000-29,999'),\n",
              "  Text(0, 0, '30,000-39,999'),\n",
              "  Text(0, 0, '40,000-49,999'),\n",
              "  Text(0, 0, '50,000-59,999'),\n",
              "  Text(0, 0, '60,000-69,999'),\n",
              "  Text(0, 0, '70,000-79,999'),\n",
              "  Text(0, 0, '80,000-89,999'),\n",
              "  Text(0, 0, '90,000-99,999'),\n",
              "  Text(0, 0, '100,000-124,999'),\n",
              "  Text(0, 0, '125,000-149,999'),\n",
              "  Text(0, 0, '150,000-199,999'),\n",
              "  Text(0, 0, '200,000-249,999'),\n",
              "  Text(0, 0, '>250,000')])"
            ]
          },
          "metadata": {
            "tags": []
          },
          "execution_count": 67
        },
        {
          "output_type": "display_data",
          "data": {
            "image/png": "[encoded data removed]",
            "text/plain": [
              "<Figure size 432x288 with 1 Axes>"
            ]
          },
          "metadata": {
            "tags": [],
            "needs_background": "light"
          }
        }
      ]
    },
    {
      "cell_type": "code",
      "metadata": {
        "colab": {
          "base_uri": "https://localhost:8080/"
        },
        "id": "QkojWnXuNUG2",
        "outputId": "e4790ea5-8078-472d-b597-c24ebeeba7bb"
      },
      "source": [
        "print('Accuracy of each fold:',accuracy)"
      ],
      "execution_count": 68,
      "outputs": [
        {
          "output_type": "stream",
          "text": [
            "Accuracy of each fold: [0.42343542 0.44074567 0.42609854 0.4460719  0.42876165 0.43941411\n",
            " 0.42210386 0.44340879 0.41810919 0.41544607]\n"
          ],
          "name": "stdout"
        }
      ]
    },
    {
      "cell_type": "code",
      "metadata": {
        "colab": {
          "base_uri": "https://localhost:8080/"
        },
        "id": "8XSD1dW18bKT",
        "outputId": "636f1bd0-f7b0-4e65-92e4-b578c30aaf0c"
      },
      "source": [
        "# Average accuracy and variance\r\n",
        "acc_mean=np.round(np.array(accuracy).mean(),4)\r\n",
        "acc_var=np.round(np.array(accuracy).var(),5)\r\n",
        "print('The average accuracy is {} with variance {}'.format(acc_mean,acc_var))"
      ],
      "execution_count": 69,
      "outputs": [
        {
          "output_type": "stream",
          "text": [
            "The average accuracy is 0.4304 with variance 0.00011\n"
          ],
          "name": "stdout"
        }
      ]
    },
    {
      "cell_type": "markdown",
      "metadata": {
        "id": "pMmI-TB42WOO"
      },
      "source": [
        "# Model Tuning"
      ]
    },
    {
      "cell_type": "code",
      "metadata": {
        "id": "SmWoME_R-i5-"
      },
      "source": [
        "# Gird search\r\n",
        "f1_score_dict={}\r\n",
        "for c in [0.01,0.1,1,10]:\r\n",
        "    for l1 in [0,0.5,1]:\r\n",
        "        lr=LogisticRegression(solver='saga',C=c,l1_ratio=l1,penalty='elasticnet')\r\n",
        "        f1_score_array = np.zeros(10)\r\n",
        "        np_idx = 0\r\n",
        "        probabilities_dict={}\r\n",
        "        n=1\r\n",
        "        # For each fold\r\n",
        "        for train_idx, test_idx in kfold.split(X_train):\r\n",
        "            # Get the training and test data\r\n",
        "            X_train_cv, X_test_cv = X_train.values[train_idx], X_train.values[test_idx]\r\n",
        "            y_train_cv, y_test_cv = y_train.values[train_idx], y_train.values[test_idx]\r\n",
        "            prob_list=[]\r\n",
        "            # For each of the encoded salaray range\r\n",
        "            for i in range(14):\r\n",
        "                # Transform training target into binary\r\n",
        "                new_y_train_cv=(y_train_cv<=i).astype(int)\r\n",
        "                # Fit the model\r\n",
        "                lr.fit(X_train_cv,new_y_train_cv)\r\n",
        "                # Get the probabilty for positive target\r\n",
        "                prob=lr.predict_proba(X_test_cv)[:,1]\r\n",
        "                # Append the probabilities to the list\r\n",
        "                prob_list.append(prob)\r\n",
        "            probabilities=np.array(prob_list)\r\n",
        "            adjusted_prob_list=[]\r\n",
        "            # For each of the classification\r\n",
        "            for i in range(15):\r\n",
        "                # For the first classification just append the result\r\n",
        "                if i == 0:\r\n",
        "                    adjusted_prob_list.append(probabilities[0,:])\r\n",
        "                # Else current probability result minus previous probability result\r\n",
        "                elif i<14:\r\n",
        "                    adjusted_prob_list.append(probabilities[i,:]-probabilities[i-1,:])\r\n",
        "                # Last class equals 1-previous probability\r\n",
        "                else:\r\n",
        "                    adjusted_prob_list.append(1-probabilities[13,:])\r\n",
        "            adjusted_probabilities=np.array(adjusted_prob_list)\r\n",
        "            # Find the maximum value in each column and output the index as prediction \r\n",
        "            prediction=np.argmax((adjusted_probabilities==adjusted_probabilities.max(axis=0,keepdims=1)).astype(int),axis=0)\r\n",
        "            # Calcualte accuracy score\r\n",
        "            f1_score_array[np_idx]=f1_score(y_test_cv,prediction,average='micro')\r\n",
        "            # Put current fold's result in the probabilities dictionary\r\n",
        "            probabilities_dict[n]=adjusted_probabilities\r\n",
        "            n=n+1\r\n",
        "            np_idx=np_idx+1\r\n",
        "        name=str(c)+'-'+str(l1)\r\n",
        "        f1_score_dict[name]=f1_score_array"
      ],
      "execution_count": 72,
      "outputs": []
    },
    {
      "cell_type": "code",
      "metadata": {
        "colab": {
          "base_uri": "https://localhost:8080/"
        },
        "id": "fbm6eItDGjta",
        "outputId": "f3ba9189-54e3-4e97-9d08-45a5a6acf486"
      },
      "source": [
        "# Find best hyperparameters\r\n",
        "mean_f1_list=[]\r\n",
        "for f1 in f1_score_dict.values():\r\n",
        "    mean_f1=f1.mean()\r\n",
        "    mean_f1_list.append(mean_f1)\r\n",
        "highest_f1_index=np.argmax(np.array(mean_f1_list))\r\n",
        "best_param=list(f1_score_dict.keys())[highest_f1_index]\r\n",
        "print('Best parameters: {}'.format(best_param))"
      ],
      "execution_count": 73,
      "outputs": [
        {
          "output_type": "stream",
          "text": [
            "Best parameters: 0.01-0\n"
          ],
          "name": "stdout"
        }
      ]
    },
    {
      "cell_type": "code",
      "metadata": {
        "id": "dGkANa8WX2F0"
      },
      "source": [
        "# Implement the model with best hypterparmeters\r\n",
        "lr=LogisticRegression(solver='saga',C=0.01,l1_ratio=0,penalty='elasticnet')\r\n",
        "accuracy = np.zeros(10)\r\n",
        "np_idx = 0\r\n",
        "probabilities_dict={}\r\n",
        "n=1\r\n",
        "# For each fold\r\n",
        "for train_idx, test_idx in kfold.split(X_train):\r\n",
        "    # Get the training and test data\r\n",
        "    X_train_cv, X_test_cv = X_train.values[train_idx], X_train.values[test_idx]\r\n",
        "    y_train_cv, y_test_cv = y_train.values[train_idx], y_train.values[test_idx]\r\n",
        "    prob_list=[]\r\n",
        "    # For each of the encoded salaray range\r\n",
        "    for i in range(14):\r\n",
        "        # Transform training target into binary\r\n",
        "        new_y_train_cv=(y_train_cv<=i).astype(int)\r\n",
        "        # Fit the model\r\n",
        "        lr.fit(X_train_cv,new_y_train_cv)\r\n",
        "        # Get the probabilty for positive target\r\n",
        "        prob=lr.predict_proba(X_test_cv)[:,1]\r\n",
        "        # Append the probabilities to the list\r\n",
        "        prob_list.append(prob)\r\n",
        "    probabilities=np.array(prob_list)\r\n",
        "    adjusted_prob_list=[]\r\n",
        "    # For each of the classification\r\n",
        "    for i in range(15):\r\n",
        "        # For the first classification just append the result\r\n",
        "        if i == 0:\r\n",
        "            adjusted_prob_list.append(probabilities[0,:])\r\n",
        "        # Else current probability result minus previous probability result\r\n",
        "        elif i<14:\r\n",
        "            adjusted_prob_list.append(probabilities[i,:]-probabilities[i-1,:])\r\n",
        "        # Last class equals 1-previous probability\r\n",
        "        else:\r\n",
        "            adjusted_prob_list.append(1-probabilities[13,:])\r\n",
        "    adjusted_probabilities=np.array(adjusted_prob_list)\r\n",
        "    # Find the maximum value in each column and output the index as prediction \r\n",
        "    prediction=np.argmax((adjusted_probabilities==adjusted_probabilities.max(axis=0,keepdims=1)).astype(int),axis=0)\r\n",
        "    # Calcualte accuracy score\r\n",
        "    accuracy[np_idx]=accuracy_score(y_test_cv,prediction)\r\n",
        "    # Put current fold's result in the probabilities dictionary\r\n",
        "    probabilities_dict[n]=adjusted_probabilities\r\n",
        "    n=n+1\r\n",
        "    np_idx=np_idx+1"
      ],
      "execution_count": 74,
      "outputs": []
    },
    {
      "cell_type": "code",
      "metadata": {
        "colab": {
          "base_uri": "https://localhost:8080/"
        },
        "id": "YAxvOuioQbHy",
        "outputId": "54a7e663-b5f8-4e2f-b43c-7ce6e1f9d4ad"
      },
      "source": [
        "# Average accuracy and variance\r\n",
        "acc_mean=np.round(np.array(accuracy).mean(),4)\r\n",
        "acc_var=np.round(np.array(accuracy).var(),4)\r\n",
        "print('The average accuracy is {} with variance {}'.format(acc_mean,acc_var))"
      ],
      "execution_count": 75,
      "outputs": [
        {
          "output_type": "stream",
          "text": [
            "The average accuracy is 0.4309 with variance 0.0001\n"
          ],
          "name": "stdout"
        }
      ]
    },
    {
      "cell_type": "markdown",
      "metadata": {
        "id": "3t6Q4zo12Z_9"
      },
      "source": [
        "# Testing&Discussion"
      ]
    },
    {
      "cell_type": "code",
      "metadata": {
        "id": "Y1nE92dHcbmI"
      },
      "source": [
        "# Train the model with best hyperparameters with all training data\r\n",
        "# And make prediction for training data and test data\r\n",
        "lr=LogisticRegression(solver='saga',C=0.01,l1_ratio=0.5,penalty='elasticnet')\r\n",
        "# Probability lists\r\n",
        "train_prob_list=[]\r\n",
        "test_prob_list=[]\r\n",
        "# For each of the encoded salaray range\r\n",
        "for i in range(14):\r\n",
        "    # Transform training target into binary\r\n",
        "    new_y_train=(y_train<=i).astype(int)\r\n",
        "    # Fit the model\r\n",
        "    lr.fit(X_train,new_y_train)\r\n",
        "    # Get the probabilty for positive target\r\n",
        "    train_prob=lr.predict_proba(X_train)[:,1]\r\n",
        "    test_prob=lr.predict_proba(X_test)[:,1]\r\n",
        "    # Append the probabilities to the list\r\n",
        "    train_prob_list.append(train_prob)\r\n",
        "    test_prob_list.append(test_prob)\r\n",
        "train_probabilities=np.array(train_prob_list)\r\n",
        "test_probabilities=np.array(test_prob_list)\r\n",
        "train_adjusted_prob_list=[]\r\n",
        "test_adjusted_prob_list=[]\r\n",
        "for i in range(15):\r\n",
        "    # For the first classification just append the result\r\n",
        "    if i == 0:\r\n",
        "        train_adjusted_prob_list.append(train_probabilities[0,:])\r\n",
        "        test_adjusted_prob_list.append(test_probabilities[0,:])\r\n",
        "    # Else current probability result minus previous probability result\r\n",
        "    elif i<14:\r\n",
        "        train_adjusted_prob_list.append(train_probabilities[i,:]-train_probabilities[i-1,:])\r\n",
        "        test_adjusted_prob_list.append(test_probabilities[i,:]-test_probabilities[i-1,:])\r\n",
        "    # Last class equals 1-previous probability\r\n",
        "    else:\r\n",
        "        train_adjusted_prob_list.append(1-train_probabilities[13,:])\r\n",
        "        test_adjusted_prob_list.append(1-test_probabilities[13,:])\r\n",
        "    train_adjusted_probabilities=np.array(train_adjusted_prob_list)\r\n",
        "    test_adjusted_probabilities=np.array(test_adjusted_prob_list)\r\n",
        "    # Find the maximum value in each column and output the index as prediction \r\n",
        "    train_prediction=np.argmax((train_adjusted_probabilities==train_adjusted_probabilities.max(axis=0,keepdims=1)).astype(int),axis=0)\r\n",
        "    test_prediction=np.argmax((test_adjusted_probabilities==test_adjusted_probabilities.max(axis=0,keepdims=1)).astype(int),axis=0)\r\n"
      ],
      "execution_count": 76,
      "outputs": []
    },
    {
      "cell_type": "code",
      "metadata": {
        "id": "hTUXky1Q0vjv"
      },
      "source": [
        "# Convert predicted lable to bucket\r\n",
        "train_prediction_bucket=pd.Series(train_prediction).map(bucket_encode)\r\n",
        "trest_prediction_bucket=pd.Series(test_prediction).map(bucket_encode)"
      ],
      "execution_count": 80,
      "outputs": []
    },
    {
      "cell_type": "code",
      "metadata": {
        "colab": {
          "base_uri": "https://localhost:8080/"
        },
        "id": "mUSWlWfO2Ubn",
        "outputId": "9d8e26a2-f03b-4660-8e7d-72a81cf7defb"
      },
      "source": [
        "# Print the accuracy for training data and test data\r\n",
        "print('Accuracy on training set: {}'.format(np.round(accuracy_score(y_train,train_prediction),4)))\r\n",
        "print('Accuracy on testing set: {}'.format(np.round(accuracy_score(y_test,test_prediction),4)))"
      ],
      "execution_count": 81,
      "outputs": [
        {
          "output_type": "stream",
          "text": [
            "Accuracy on training set: 0.4344\n",
            "Accuracy on testing set: 0.4331\n"
          ],
          "name": "stdout"
        }
      ]
    },
    {
      "cell_type": "code",
      "metadata": {
        "colab": {
          "base_uri": "https://localhost:8080/",
          "height": 313
        },
        "id": "-ATTPX9U3cpn",
        "outputId": "ac29fb02-711e-40b7-d278-5e22be6015bf"
      },
      "source": [
        "# Plot distribution of training target\r\n",
        "bins=np.arange(16)-0.5\r\n",
        "plt.hist(y_train,bins,label=bucket_set)\r\n",
        "plt.xlabel('Target label')\r\n",
        "plt.ylabel('Frequency')\r\n",
        "plt.title('Distribution of training data target')"
      ],
      "execution_count": 89,
      "outputs": [
        {
          "output_type": "execute_result",
          "data": {
            "text/plain": [
              "Text(0.5, 1.0, 'Distribution of training data target')"
            ]
          },
          "metadata": {
            "tags": []
          },
          "execution_count": 89
        },
        {
          "output_type": "display_data",
          "data": {
            "image/png": "[encoded data removed]",
            "text/plain": [
              "<Figure size 432x288 with 1 Axes>"
            ]
          },
          "metadata": {
            "tags": [],
            "needs_background": "light"
          }
        }
      ]
    },
    {
      "cell_type": "code",
      "metadata": {
        "colab": {
          "base_uri": "https://localhost:8080/",
          "height": 313
        },
        "id": "HTcpkB243nNZ",
        "outputId": "6eee2f73-2469-4fe9-ae66-b43fc97db74e"
      },
      "source": [
        "# Plot distribution of training prediction\r\n",
        "plt.hist(train_prediction,bins)\r\n",
        "plt.xlabel('Prediction label')\r\n",
        "plt.ylabel('Frequency')\r\n",
        "plt.title('Distribution of training data prediction')"
      ],
      "execution_count": 90,
      "outputs": [
        {
          "output_type": "execute_result",
          "data": {
            "text/plain": [
              "Text(0.5, 1.0, 'Distribution of training data prediction')"
            ]
          },
          "metadata": {
            "tags": []
          },
          "execution_count": 90
        },
        {
          "output_type": "display_data",
          "data": {
            "image/png": "[encoded data removed]",
            "text/plain": [
              "<Figure size 432x288 with 1 Axes>"
            ]
          },
          "metadata": {
            "tags": [],
            "needs_background": "light"
          }
        }
      ]
    },
    {
      "cell_type": "code",
      "metadata": {
        "colab": {
          "base_uri": "https://localhost:8080/",
          "height": 313
        },
        "id": "kraPueOtABBq",
        "outputId": "a5163c63-2242-46aa-e15d-f4e0150990f0"
      },
      "source": [
        "# Plot distribution of test target\r\n",
        "plt.hist(y_test,bins)\r\n",
        "plt.xlabel('Target label')\r\n",
        "plt.ylabel('Frequency')\r\n",
        "plt.title('Distribution of testing data target')"
      ],
      "execution_count": 91,
      "outputs": [
        {
          "output_type": "execute_result",
          "data": {
            "text/plain": [
              "Text(0.5, 1.0, 'Distribution of testing data target')"
            ]
          },
          "metadata": {
            "tags": []
          },
          "execution_count": 91
        },
        {
          "output_type": "display_data",
          "data": {
            "image/png": "[encoded data removed]",
            "text/plain": [
              "<Figure size 432x288 with 1 Axes>"
            ]
          },
          "metadata": {
            "tags": [],
            "needs_background": "light"
          }
        }
      ]
    },
    {
      "cell_type": "code",
      "metadata": {
        "colab": {
          "base_uri": "https://localhost:8080/",
          "height": 313
        },
        "id": "UAy03I7m34B8",
        "outputId": "0eddceb4-72eb-4ac8-a3ae-03401cf07b98"
      },
      "source": [
        "# Plot distribution of test prediction\r\n",
        "plt.hist(test_prediction,bins)\r\n",
        "plt.xlabel('Prediction label')\r\n",
        "plt.ylabel('Frequency')\r\n",
        "plt.title('Distribution of testing data prediction')"
      ],
      "execution_count": 92,
      "outputs": [
        {
          "output_type": "execute_result",
          "data": {
            "text/plain": [
              "Text(0.5, 1.0, 'Distribution of testing data prediction')"
            ]
          },
          "metadata": {
            "tags": []
          },
          "execution_count": 92
        },
        {
          "output_type": "display_data",
          "data": {
            "image/png": "[encoded data removed]",
            "text/plain": [
              "<Figure size 432x288 with 1 Axes>"
            ]
          },
          "metadata": {
            "tags": [],
            "needs_background": "light"
          }
        }
      ]
    }
  ]
}
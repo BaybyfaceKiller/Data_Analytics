{
  "nbformat": 4,
  "nbformat_minor": 0,
  "metadata": {
    "colab": {
      "name": "liu_1001297385_assignment1.ipynb",
      "provenance": [],
      "collapsed_sections": []
    },
    "kernelspec": {
      "name": "python3",
      "display_name": "Python 3"
    }
  },
  "cells": [
    {
      "cell_type": "code",
      "metadata": {
        "id": "ligL_3shZGGh"
      },
      "source": [
        "# Import libraries\r\n",
        "import pandas as pd\r\n",
        "import matplotlib.pyplot as plt\r\n",
        "from scipy import stats\r\n",
        "import numpy as np\r\n",
        "import random\r\n",
        "from scipy.stats import f_oneway"
      ],
      "execution_count": 2,
      "outputs": []
    },
    {
      "cell_type": "code",
      "metadata": {
        "colab": {
          "base_uri": "https://localhost:8080/"
        },
        "id": "cZzztCKsaLTw",
        "outputId": "10a95a0b-4f3b-46f8-fc68-9a3430dfb3f4"
      },
      "source": [
        "# Read dataset to a dataframe\r\n",
        "df = pd.read_csv('clean_kaggle_data.csv')"
      ],
      "execution_count": 3,
      "outputs": [
        {
          "output_type": "stream",
          "text": [
            "/usr/local/lib/python3.6/dist-packages/IPython/core/interactiveshell.py:2718: DtypeWarning: Columns (207) have mixed types.Specify dtype option on import or set low_memory=False.\n",
            "  interactivity=interactivity, compiler=compiler, result=result)\n"
          ],
          "name": "stderr"
        }
      ]
    },
    {
      "cell_type": "markdown",
      "metadata": {
        "id": "SRqkJHMd2ZVX"
      },
      "source": [
        "# **Part 1: Exploratory data analysis**"
      ]
    },
    {
      "cell_type": "markdown",
      "metadata": {
        "id": "TrZEeWmbIPCo"
      },
      "source": [
        "**Data exploration**"
      ]
    },
    {
      "cell_type": "code",
      "metadata": {
        "colab": {
          "base_uri": "https://localhost:8080/"
        },
        "id": "INXj4kSHkKyC",
        "outputId": "292e1112-47ee-464f-a73a-5af7613ad4d8"
      },
      "source": [
        "# Check the shape of the dataframe\r\n",
        "print('Shape of this dataframe is {}'.format(df.shape))"
      ],
      "execution_count": 4,
      "outputs": [
        {
          "output_type": "stream",
          "text": [
            "Shape of this dataframe is (10729, 356)\n"
          ],
          "name": "stdout"
        }
      ]
    },
    {
      "cell_type": "code",
      "metadata": {
        "colab": {
          "base_uri": "https://localhost:8080/"
        },
        "id": "MCoRhYqlGkJ-",
        "outputId": "ac59f951-3288-45da-eb3c-305eee270e05"
      },
      "source": [
        "# Check columns names\r\n",
        "df.columns"
      ],
      "execution_count": 5,
      "outputs": [
        {
          "output_type": "execute_result",
          "data": {
            "text/plain": [
              "Index(['Unnamed: 0', 'Time from Start to Finish (seconds)', 'Q1', 'Q2', 'Q3',\n",
              "       'Q4', 'Q5', 'Q6', 'Q7_Part_1', 'Q7_Part_2',\n",
              "       ...\n",
              "       'Q35_B_Part_2', 'Q35_B_Part_3', 'Q35_B_Part_4', 'Q35_B_Part_5',\n",
              "       'Q35_B_Part_6', 'Q35_B_Part_7', 'Q35_B_Part_8', 'Q35_B_Part_9',\n",
              "       'Q35_B_Part_10', 'Q35_B_OTHER'],\n",
              "      dtype='object', length=356)"
            ]
          },
          "metadata": {
            "tags": []
          },
          "execution_count": 5
        }
      ]
    },
    {
      "cell_type": "code",
      "metadata": {
        "colab": {
          "base_uri": "https://localhost:8080/",
          "height": 313
        },
        "id": "BsTxfJFRaQ9n",
        "outputId": "50063a90-f3db-46d3-975a-8a5b21616c1c"
      },
      "source": [
        "# Extract count for each age range\r\n",
        "age_count=df['Q1'].value_counts()\r\n",
        "count=age_count.values\r\n",
        "age_range=age_count.index\r\n",
        "# Plot barplot\r\n",
        "plt.bar(age_range,count)\r\n",
        "plt.xlabel('Age range')\r\n",
        "plt.ylabel('Count number')\r\n",
        "plt.title('Barplot of age')\r\n"
      ],
      "execution_count": 6,
      "outputs": [
        {
          "output_type": "execute_result",
          "data": {
            "text/plain": [
              "Text(0.5, 1.0, 'Barplot of age')"
            ]
          },
          "metadata": {
            "tags": []
          },
          "execution_count": 6
        },
        {
          "output_type": "display_data",
          "data": {
            "image/png": "[encoded data removed]",
            "text/plain": [
              "<Figure size 432x288 with 1 Axes>"
            ]
          },
          "metadata": {
            "tags": [],
            "needs_background": "light"
          }
        }
      ]
    },
    {
      "cell_type": "code",
      "metadata": {
        "colab": {
          "base_uri": "https://localhost:8080/",
          "height": 313
        },
        "id": "NE9BCj4fc_BT",
        "outputId": "b3b014bf-f572-4ae8-f52b-5b4313a10683"
      },
      "source": [
        "# Create barplot for education\r\n",
        "# Extract count for each education level\r\n",
        "education_count=df['Q4'].value_counts()\r\n",
        "count=education_count.values\r\n",
        "education_level=education_count.index\r\n",
        "# Plot barplot\r\n",
        "plt.barh(education_level,count)\r\n",
        "plt.xlabel('Count number')\r\n",
        "plt.ylabel('Education level')\r\n",
        "plt.title('Barplot of education level')"
      ],
      "execution_count": 7,
      "outputs": [
        {
          "output_type": "execute_result",
          "data": {
            "text/plain": [
              "Text(0.5, 1.0, 'Barplot of education level')"
            ]
          },
          "metadata": {
            "tags": []
          },
          "execution_count": 7
        },
        {
          "output_type": "display_data",
          "data": {
            "image/png": "[encoded data removed]",
            "text/plain": [
              "<Figure size 432x288 with 1 Axes>"
            ]
          },
          "metadata": {
            "tags": [],
            "needs_background": "light"
          }
        }
      ]
    },
    {
      "cell_type": "code",
      "metadata": {
        "colab": {
          "base_uri": "https://localhost:8080/",
          "height": 313
        },
        "id": "858sq0nse8Bz",
        "outputId": "d87f5a00-fc47-4234-fa16-eb9bbb946969"
      },
      "source": [
        "# Create histogram for salary\r\n",
        "# Extract salary from dataset\r\n",
        "salary=df['Q24']\r\n",
        "# Plot histogram\r\n",
        "num_bins=10\r\n",
        "plt.hist(salary,num_bins)\r\n",
        "plt.xlabel('Salary')\r\n",
        "plt.ylabel('Frequency')\r\n",
        "plt.title('Histogram of salary')"
      ],
      "execution_count": 8,
      "outputs": [
        {
          "output_type": "execute_result",
          "data": {
            "text/plain": [
              "Text(0.5, 1.0, 'Histogram of salary')"
            ]
          },
          "metadata": {
            "tags": []
          },
          "execution_count": 8
        },
        {
          "output_type": "display_data",
          "data": {
            "image/png": "[encoded data removed]",
            "text/plain": [
              "<Figure size 432x288 with 1 Axes>"
            ]
          },
          "metadata": {
            "tags": [],
            "needs_background": "light"
          }
        }
      ]
    },
    {
      "cell_type": "markdown",
      "metadata": {
        "id": "uURWcDZS2nz6"
      },
      "source": [
        "# **Part 2: Estimate difference between average salary of men and women**"
      ]
    },
    {
      "cell_type": "code",
      "metadata": {
        "colab": {
          "base_uri": "https://localhost:8080/"
        },
        "id": "BbJ6PSs_htTu",
        "outputId": "9baf2a53-910e-4315-db52-3b0e8f8739e6"
      },
      "source": [
        "# Check if there is any missing data in Q24 and Q2\r\n",
        "print('There is {} missing data in Q24'.format(df['Q24'].isnull().sum()))\r\n",
        "print('There is {} missing data in Q2'.format(df['Q2'].isnull().sum()))"
      ],
      "execution_count": 9,
      "outputs": [
        {
          "output_type": "stream",
          "text": [
            "There is 0 missing data in Q24\n",
            "There is 0 missing data in Q2\n"
          ],
          "name": "stdout"
        }
      ]
    },
    {
      "cell_type": "code",
      "metadata": {
        "colab": {
          "base_uri": "https://localhost:8080/"
        },
        "id": "9TFMtdqUiQ9l",
        "outputId": "c1cdf281-ea6f-4b3f-aed5-038540f6b44f"
      },
      "source": [
        "# Compute descriptive statistics for each group\r\n",
        "salary_and_gender=df[['Q2','Q24']]\r\n",
        "male_salary=salary_and_gender[salary_and_gender['Q2']=='Man']['Q24']\r\n",
        "female_salary=salary_and_gender[salary_and_gender['Q2']=='Woman']['Q24']\r\n",
        "print('Descriptive statistics for Men:\\n',male_salary.describe())\r\n",
        "print('Descriptive statistics for Women:\\n',female_salary.describe())"
      ],
      "execution_count": 10,
      "outputs": [
        {
          "output_type": "stream",
          "text": [
            "Descriptive statistics for Men:\n",
            " count      8872.000000\n",
            "mean      50750.619928\n",
            "std       70347.974812\n",
            "min        1000.000000\n",
            "25%        3000.000000\n",
            "50%       25000.000000\n",
            "75%       70000.000000\n",
            "max      500000.000000\n",
            "Name: Q24, dtype: float64\n",
            "Descriptive statistics for Women:\n",
            " count      1683.000000\n",
            "mean      36417.112299\n",
            "std       59442.716093\n",
            "min        1000.000000\n",
            "25%        1000.000000\n",
            "50%        7500.000000\n",
            "75%       50000.000000\n",
            "max      500000.000000\n",
            "Name: Q24, dtype: float64\n"
          ],
          "name": "stdout"
        }
      ]
    },
    {
      "cell_type": "code",
      "metadata": {
        "colab": {
          "base_uri": "https://localhost:8080/"
        },
        "id": "2Q5s8v-kamf3",
        "outputId": "0ec180f9-7f5d-40e2-b867-238b7000b957"
      },
      "source": [
        "# Shapiro test for normality\r\n",
        "s_m,p_m=stats.shapiro(male_salary)\r\n",
        "s_w,p_w=stats.shapiro(female_salary)\r\n",
        "print('Shapiro test for normality of men salary: P-value is {}'.format(p_m))\r\n",
        "print('Shapiro test for normality of women salary: P-value is {}'.format(p_w))"
      ],
      "execution_count": 25,
      "outputs": [
        {
          "output_type": "stream",
          "text": [
            "Shapiro test for normality of men salary: P-value is 0.0\n",
            "Shapiro test for normality of women salary: P-value is 0.0\n"
          ],
          "name": "stdout"
        },
        {
          "output_type": "stream",
          "text": [
            "/usr/local/lib/python3.6/dist-packages/scipy/stats/morestats.py:1676: UserWarning: p-value may not be accurate for N > 5000.\n",
            "  warnings.warn(\"p-value may not be accurate for N > 5000.\")\n"
          ],
          "name": "stderr"
        }
      ]
    },
    {
      "cell_type": "code",
      "metadata": {
        "id": "_iDz18-tqMAV"
      },
      "source": [
        "# Set bootstrap size equal to original size \r\n",
        "male_size=8872\r\n",
        "female_size=1683"
      ],
      "execution_count": 11,
      "outputs": []
    },
    {
      "cell_type": "code",
      "metadata": {
        "id": "0lsADUWPrPwK"
      },
      "source": [
        "# Create lists to store the mean of bootstrap samples\r\n",
        "male_mean_list=[]\r\n",
        "female_mean_list=[]\r\n",
        "# Number of times to resample from the data\r\n",
        "t=1000"
      ],
      "execution_count": 12,
      "outputs": []
    },
    {
      "cell_type": "code",
      "metadata": {
        "id": "wRWHCZW1s_Sa"
      },
      "source": [
        "# Perform bootstrap and store mean of each group to the lists\r\n",
        "for i in np.arange(t):\r\n",
        "    male_samples=np.random.choice(male_salary.values,male_size,replace=True)\r\n",
        "    female_samples=np.random.choice(female_salary.values,female_size,replace=True)\r\n",
        "    male_mean=male_samples.mean()\r\n",
        "    female_mean=female_samples.mean()\r\n",
        "    male_mean_list.append(male_mean)\r\n",
        "    female_mean_list.append(female_mean)"
      ],
      "execution_count": 13,
      "outputs": []
    },
    {
      "cell_type": "code",
      "metadata": {
        "colab": {
          "base_uri": "https://localhost:8080/",
          "height": 313
        },
        "id": "rKtGc48cvWTS",
        "outputId": "255b49cb-1b6e-4f7a-fb28-58c9d7c8d63c"
      },
      "source": [
        "bins=np.arange(30000,60000,1000)\r\n",
        "# Plot bootstrapped distribution for male\r\n",
        "plt.hist(male_mean_list,bins=bins,alpha=0.3,label='Men')\r\n",
        "# Plot bootstrapped distribution for female\r\n",
        "plt.hist(female_mean_list,bins=bins,alpha=0.3,label='Women')\r\n",
        "plt.legend()\r\n",
        "plt.xlabel('Average salary')\r\n",
        "plt.ylabel('Frequency')\r\n",
        "plt.title('Distirbution of average salary for men and women')"
      ],
      "execution_count": 14,
      "outputs": [
        {
          "output_type": "execute_result",
          "data": {
            "text/plain": [
              "Text(0.5, 1.0, 'Distirbution of average salary for men and women')"
            ]
          },
          "metadata": {
            "tags": []
          },
          "execution_count": 14
        },
        {
          "output_type": "display_data",
          "data": {
            "image/png": "[encoded data removed]",
            "text/plain": [
              "<Figure size 432x288 with 1 Axes>"
            ]
          },
          "metadata": {
            "tags": [],
            "needs_background": "light"
          }
        }
      ]
    },
    {
      "cell_type": "code",
      "metadata": {
        "colab": {
          "base_uri": "https://localhost:8080/",
          "height": 313
        },
        "id": "AtU2_DZS44Fr",
        "outputId": "7a70f983-8656-4246-a548-8f6e2f82b196"
      },
      "source": [
        "# Plot distribution of difference in means\r\n",
        "difference=np.array(male_mean_list)-np.array(female_mean_list)\r\n",
        "bins=np.arange(0,30000,1000)\r\n",
        "plt.hist(difference,bins,alpha=0.5)\r\n",
        "plt.xlabel('Difference in average salary')\r\n",
        "plt.ylabel('Frequency')\r\n",
        "plt.title('Distribution of difference in average salary')"
      ],
      "execution_count": 15,
      "outputs": [
        {
          "output_type": "execute_result",
          "data": {
            "text/plain": [
              "Text(0.5, 1.0, 'Distribution of difference in average salary')"
            ]
          },
          "metadata": {
            "tags": []
          },
          "execution_count": 15
        },
        {
          "output_type": "display_data",
          "data": {
            "image/png": "[encoded data removed]",
            "text/plain": [
              "<Figure size 432x288 with 1 Axes>"
            ]
          },
          "metadata": {
            "tags": [],
            "needs_background": "light"
          }
        }
      ]
    },
    {
      "cell_type": "code",
      "metadata": {
        "colab": {
          "base_uri": "https://localhost:8080/"
        },
        "id": "RH3M6M1o7_Ac",
        "outputId": "f1cca2d0-371d-4d7f-f236-b04243b690d2"
      },
      "source": [
        "# Perform Welch's t-test and set equal variance to False\r\n",
        "tc, pc = stats.ttest_ind(np.array(male_mean_list), np.array(female_mean_list),equal_var=False)\r\n",
        "print ('t-test: t = {}  p = {}'.format(tc,pc))"
      ],
      "execution_count": 16,
      "outputs": [
        {
          "output_type": "stream",
          "text": [
            "t-test: t = 285.061022803086  p = 0.0\n"
          ],
          "name": "stdout"
        }
      ]
    },
    {
      "cell_type": "markdown",
      "metadata": {
        "id": "HmNyd2md27IA"
      },
      "source": [
        "# **Part 3: Estimate difference in average salary on level of formal education**"
      ]
    },
    {
      "cell_type": "code",
      "metadata": {
        "colab": {
          "base_uri": "https://localhost:8080/"
        },
        "id": "AKw276X-zySa",
        "outputId": "3212e1af-32a7-418c-d00a-edc8e27f923d"
      },
      "source": [
        "# Check if there is any missing data in Q24 and Q4\r\n",
        "print('There is {} missing data in Q24'.format(df['Q24'].isnull().sum()))\r\n",
        "print('There is {} missing data in Q2'.format(df['Q4'].isnull().sum()))"
      ],
      "execution_count": 17,
      "outputs": [
        {
          "output_type": "stream",
          "text": [
            "There is 0 missing data in Q24\n",
            "There is 0 missing data in Q2\n"
          ],
          "name": "stdout"
        }
      ]
    },
    {
      "cell_type": "code",
      "metadata": {
        "colab": {
          "base_uri": "https://localhost:8080/"
        },
        "id": "6PkeWLNf35BP",
        "outputId": "0f185daf-d290-4f6d-ab1a-93205ffbaa6b"
      },
      "source": [
        "# Compute descriptive statistics for each group\r\n",
        "salary_and_education=df[['Q4','Q24']]\r\n",
        "bachelor_salary=salary_and_gender[salary_and_education['Q4']==\"Bachelor’s degree\"]['Q24']\r\n",
        "master_salary=salary_and_gender[salary_and_education['Q4']==\"Master’s degree\"]['Q24']\r\n",
        "doctoral_salary=salary_and_gender[salary_and_education['Q4']==\"Doctoral degree\"]['Q24']\r\n",
        "print(\"Descriptive statistics for Bachelor's degree:\\n\",bachelor_salary.describe())\r\n",
        "print(\"Descriptive statistics for Master's degree:\\n\",master_salary.describe())\r\n",
        "print(\"Descriptive statistics for Doctoral degree:\\n\",doctoral_salary.describe())"
      ],
      "execution_count": 18,
      "outputs": [
        {
          "output_type": "stream",
          "text": [
            "Descriptive statistics for Bachelor's degree:\n",
            " count      3013.000000\n",
            "mean      35732.824427\n",
            "std       60247.753546\n",
            "min        1000.000000\n",
            "25%        1000.000000\n",
            "50%       10000.000000\n",
            "75%       50000.000000\n",
            "max      500000.000000\n",
            "Name: Q24, dtype: float64\n",
            "Descriptive statistics for Master's degree:\n",
            " count      4879.000000\n",
            "mean      52120.106579\n",
            "std       67681.571528\n",
            "min        1000.000000\n",
            "25%        4000.000000\n",
            "50%       25000.000000\n",
            "75%       70000.000000\n",
            "max      500000.000000\n",
            "Name: Q24, dtype: float64\n",
            "Descriptive statistics for Doctoral degree:\n",
            " count      1718.000000\n",
            "mean      68719.441211\n",
            "std       85403.650394\n",
            "min        1000.000000\n",
            "25%        5000.000000\n",
            "50%       40000.000000\n",
            "75%       90000.000000\n",
            "max      500000.000000\n",
            "Name: Q24, dtype: float64\n"
          ],
          "name": "stdout"
        }
      ]
    },
    {
      "cell_type": "code",
      "metadata": {
        "colab": {
          "base_uri": "https://localhost:8080/"
        },
        "id": "0HJFgCoxbOkg",
        "outputId": "1efa1d06-c20e-49c7-833c-5769c77736b4"
      },
      "source": [
        "# Shapiro test for normality\r\n",
        "s_bachelor,p_bachelor=stats.shapiro(bachelor_salary)\r\n",
        "s_master,p_master=stats.shapiro(master_salary)\r\n",
        "s_doctoral,p_doctoral=stats.shapiro(doctoral_salary)\r\n",
        "print(\"Shapiro test for normality of bachelor's salary: P-value is {}\".format(p_bachelor))\r\n",
        "print(\"Shapiro test for normality of master's salary: P-value is {}\".format(p_master))\r\n",
        "print(\"Shapiro test for normality of doctoral salary: P-value is {}\".format(p_doctoral))"
      ],
      "execution_count": 26,
      "outputs": [
        {
          "output_type": "stream",
          "text": [
            "Shapiro test for normality of bachelor's salary: P-value is 0.0\n",
            "Shapiro test for normality of master's salary: P-value is 0.0\n",
            "Shapiro test for normality of doctoral salary: P-value is 2.802596928649634e-45\n"
          ],
          "name": "stdout"
        }
      ]
    },
    {
      "cell_type": "code",
      "metadata": {
        "id": "gHdzJbzV7QEe"
      },
      "source": [
        "# Set bootstrap size equal to original size\r\n",
        "bachelor_size=3013\r\n",
        "master_size=4879\r\n",
        "doctoral_size=1718"
      ],
      "execution_count": 19,
      "outputs": []
    },
    {
      "cell_type": "code",
      "metadata": {
        "id": "F7VHoVzl79HL"
      },
      "source": [
        "# Create lists to store the mean of bootstrap samples\r\n",
        "bachelor_mean_list=[]\r\n",
        "master_mean_list=[]\r\n",
        "doctoral_mean_list=[]\r\n",
        "# Number of times to resample from the data\r\n",
        "t=1000"
      ],
      "execution_count": 20,
      "outputs": []
    },
    {
      "cell_type": "code",
      "metadata": {
        "id": "czN6NVRq9eIb"
      },
      "source": [
        "# Perform bootstrap and store mean of each group to the lists\r\n",
        "for i in np.arange(t):\r\n",
        "    bachelor_samples=np.random.choice(bachelor_salary.values,bachelor_size,replace=True)\r\n",
        "    master_samples=np.random.choice(master_salary.values,master_size,replace=True)\r\n",
        "    doctoral_samples=np.random.choice(doctoral_salary.values,doctoral_size,replace=True)\r\n",
        "    bachelor_mean=bachelor_samples.mean()\r\n",
        "    master_mean=master_samples.mean()\r\n",
        "    doctoral_mean=doctoral_samples.mean()\r\n",
        "    bachelor_mean_list.append(bachelor_mean)\r\n",
        "    master_mean_list.append(master_mean)\r\n",
        "    doctoral_mean_list.append(doctoral_mean)"
      ],
      "execution_count": 21,
      "outputs": []
    },
    {
      "cell_type": "code",
      "metadata": {
        "colab": {
          "base_uri": "https://localhost:8080/",
          "height": 313
        },
        "id": "xJL4Hxpt-PAR",
        "outputId": "559a2c7c-abf7-49bf-ee2d-1c31468ea5e3"
      },
      "source": [
        "bins=np.arange(20000,80000,1000)\r\n",
        "# Plot bootstrapped distribution for bachelor's degree\r\n",
        "plt.hist(bachelor_mean_list,bins=bins,alpha=0.3,label=\"Bachelor's degree\")\r\n",
        "# Plot bootstrapped distribution for master's degree\r\n",
        "plt.hist(master_mean_list,bins=bins,alpha=0.3,label=\"Master's degree\")\r\n",
        "# Plot bootstrapped distribution for doctoral degree\r\n",
        "plt.hist(doctoral_mean_list,bins=bins,alpha=0.3,label=\"Doctoral degree\")\r\n",
        "plt.legend()\r\n",
        "plt.xlabel('Average salary')\r\n",
        "plt.ylabel('Frequency')\r\n",
        "plt.title('Distirbution of average salary for different level of formal education')"
      ],
      "execution_count": 22,
      "outputs": [
        {
          "output_type": "execute_result",
          "data": {
            "text/plain": [
              "Text(0.5, 1.0, 'Distirbution of average salary for different level of formal education')"
            ]
          },
          "metadata": {
            "tags": []
          },
          "execution_count": 22
        },
        {
          "output_type": "display_data",
          "data": {
            "image/png": "[encoded data removed]",
            "text/plain": [
              "<Figure size 432x288 with 1 Axes>"
            ]
          },
          "metadata": {
            "tags": [],
            "needs_background": "light"
          }
        }
      ]
    },
    {
      "cell_type": "code",
      "metadata": {
        "colab": {
          "base_uri": "https://localhost:8080/",
          "height": 313
        },
        "id": "Z_W8P0Sg_KuA",
        "outputId": "cca9ca9c-e8b3-4ed0-c3c5-068db5a9692e"
      },
      "source": [
        "# Plot distribution of difference in means\r\n",
        "# Calculate difference in means of master's degree and bachelor's degree\r\n",
        "difference_m_to_b=np.array(master_mean_list)-np.array(bachelor_mean_list)\r\n",
        "# Calculate difference in means of doctoral degree and master's degree\r\n",
        "difference_d_to_m=np.array(doctoral_mean_list)-np.array(master_mean_list)\r\n",
        "# Calculate difference in means of doctoral degree and bachelor's degree\r\n",
        "difference_d_to_b=np.array(doctoral_mean_list)-np.array(bachelor_mean_list)\r\n",
        "bins=np.arange(0,50000,1000)\r\n",
        "# Plot distribution of each difference in means\r\n",
        "plt.hist(difference_m_to_b,bins,alpha=0.3,label=\"Master's and Bachelor's\")\r\n",
        "plt.hist(difference_d_to_m,bins,alpha=0.3,label=\"Doctoral and Master's\")\r\n",
        "plt.hist(difference_d_to_b,bins,alpha=0.3,label=\"Doctoral and Bachelor's\")\r\n",
        "plt.legend()\r\n",
        "plt.xlabel('Difference in average salary')\r\n",
        "plt.ylabel('Frequency')\r\n",
        "plt.title('Distribution of difference in average salary')"
      ],
      "execution_count": 23,
      "outputs": [
        {
          "output_type": "execute_result",
          "data": {
            "text/plain": [
              "Text(0.5, 1.0, 'Distribution of difference in average salary')"
            ]
          },
          "metadata": {
            "tags": []
          },
          "execution_count": 23
        },
        {
          "output_type": "display_data",
          "data": {
            "image/png": "[encoded data removed]",
            "text/plain": [
              "<Figure size 432x288 with 1 Axes>"
            ]
          },
          "metadata": {
            "tags": [],
            "needs_background": "light"
          }
        }
      ]
    },
    {
      "cell_type": "code",
      "metadata": {
        "colab": {
          "base_uri": "https://localhost:8080/"
        },
        "id": "UnV1pkysAlY6",
        "outputId": "b17ff473-4e7f-4c3e-d8e4-1ee20f09e8fa"
      },
      "source": [
        "F, p = f_oneway(bachelor_mean_list, master_mean_list, doctoral_mean_list)\r\n",
        "print ('ANOVA: F = {}  p = {}'.format(F,p))"
      ],
      "execution_count": 24,
      "outputs": [
        {
          "output_type": "stream",
          "text": [
            "ANOVA: F = 130879.2614796355  p = 0.0\n"
          ],
          "name": "stdout"
        }
      ]
    }
  ]
}